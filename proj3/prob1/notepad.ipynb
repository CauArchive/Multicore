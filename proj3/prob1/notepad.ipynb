{
 "cells": [
  {
   "cell_type": "code",
   "execution_count": 17,
   "metadata": {},
   "outputs": [],
   "source": [
    "import matplotlib.pyplot as plt\n",
    "import numpy as np\n",
    "import pandas as pd"
   ]
  },
  {
   "cell_type": "code",
   "execution_count": 18,
   "metadata": {},
   "outputs": [
    {
     "name": "stdout",
     "output_type": "stream",
     "text": [
      "1\n"
     ]
    }
   ],
   "source": [
    "print(1)"
   ]
  },
  {
   "cell_type": "code",
   "execution_count": 16,
   "metadata": {},
   "outputs": [
    {
     "name": "stdout",
     "output_type": "stream",
     "text": [
      "   Threads    Static   Dynamic  Static_Chunk_10  Static_Dynamic_10\n",
      "0        1  1.089294  1.092924         1.095839           1.096367\n",
      "1        2  0.807707  0.568187         0.559569           0.558555\n",
      "2        4  0.486002  0.299504         0.292910           0.290078\n",
      "3        6  0.385013  0.269393         0.351231           0.273241\n",
      "4        8  0.346723  0.255572         0.280043           0.255536\n",
      "5       10  0.293754  0.281783         0.261198           0.261531\n",
      "6       12  0.277741  0.256117         0.268474           0.255503\n",
      "7       14  0.302724  0.258011         0.262844           0.278834\n",
      "8       16  0.275702  0.266160         0.260974           0.286105\n",
      "1\n"
     ]
    }
   ],
   "source": [
    "result = pd.read_csv('./ans.csv')\n",
    "print(result)\n",
    "print(1)\n",
    "# plt.plot(result.Threads, result.Static,'b.-',label = 'Static',color='green')\n",
    "# plt.plot(result.Threads, result.Dynamic,'b.-',label = 'Dynamic',color='red')\n",
    "# plt.suptitle('Exec time')\n",
    "# plt.title('Exec Time', fontdict={'fontsize':15,'fontweight':'bold'})\n",
    "# plt.xlabel('Threads')\n",
    "# plt.ylabel('Exec Time')\n",
    "# plt.xticks([1,2,4,6,8,10,12,14,16])\n",
    "# plt.legend()\n",
    "# plt.show()"
   ]
  }
 ],
 "metadata": {
  "interpreter": {
   "hash": "4bd624a0593993fe43ac4046b27b898fb2ef75c21c08f81e89e64ea0f51df676"
  },
  "kernelspec": {
   "display_name": "Python 3.9.10 ('tensorflow')",
   "language": "python",
   "name": "python3"
  },
  "language_info": {
   "codemirror_mode": {
    "name": "ipython",
    "version": 3
   },
   "file_extension": ".py",
   "mimetype": "text/x-python",
   "name": "python",
   "nbconvert_exporter": "python",
   "pygments_lexer": "ipython3",
   "version": "3.9.10"
  },
  "orig_nbformat": 4
 },
 "nbformat": 4,
 "nbformat_minor": 2
}
